{
 "cells": [
  {
   "cell_type": "code",
   "execution_count": 89,
   "metadata": {},
   "outputs": [],
   "source": [
    "from collections import defaultdict, deque\n",
    "\n",
    "N = 11\n",
    "\n",
    "\n",
    "def get_num_digits_to_possible_solutions(generator, max_num_digits):\n",
    "    num_digits_to_possible_solutions = defaultdict(list)\n",
    "    while True:\n",
    "        possible_solution = next(generator)\n",
    "        num_digits = len(str(possible_solution))\n",
    "        if num_digits < 2:\n",
    "            continue\n",
    "        if num_digits > max_num_digits:\n",
    "            break\n",
    "        num_digits_to_possible_solutions[num_digits].append(possible_solution)\n",
    "    return num_digits_to_possible_solutions\n",
    "\n",
    "\n",
    "def get_numbers_with_digit_sum(target_sum):\n",
    "    queue = deque([(0, 0)])  # each tuple contains (current_number, current_sum)\n",
    "\n",
    "    while queue:\n",
    "        current_number, current_sum = queue.popleft()\n",
    "\n",
    "        # Start the digit range from 1 if current_number is 0 to avoid leading zeros\n",
    "        start_digit = 1 if current_number == 0 else 0\n",
    "\n",
    "        for digit in range(start_digit, 10):\n",
    "            next_number = current_number * 10 + digit\n",
    "            next_sum = current_sum + digit\n",
    "            if next_sum > target_sum:\n",
    "                break  # No further numbers need to be checked beyond this digit\n",
    "            elif next_sum == target_sum:\n",
    "                yield next_number\n",
    "            else:\n",
    "                queue.append((next_number, next_sum))\n",
    "\n",
    "\n",
    "def get_fibonacci():\n",
    "    a, b = 1, 1\n",
    "    while True:\n",
    "        yield a\n",
    "        a, b = b, a + b\n",
    "\n",
    "\n",
    "def get_squares():\n",
    "    i = 1\n",
    "    while True:\n",
    "        yield i**2\n",
    "        i += 1\n",
    "\n",
    "\n",
    "def get_multiples_of_thirty_seven():\n",
    "    i = 1\n",
    "    while True:\n",
    "        yield 37 * i\n",
    "        i += 1"
   ]
  },
  {
   "cell_type": "code",
   "execution_count": 90,
   "metadata": {},
   "outputs": [
    {
     "name": "stdout",
     "output_type": "stream",
     "text": [
      "233\n",
      "([0, 1, 0, 0, 0, 0, 1, 0, 1, 0, 0], 8)\n"
     ]
    }
   ],
   "source": [
    "n_by_one_shadings = []\n",
    "\n",
    "\n",
    "def generate_all_shadings(i, prev, accum):\n",
    "    if i == N:\n",
    "        n_by_one_shadings.append(accum)\n",
    "        return\n",
    "    if prev == 1:\n",
    "        generate_all_shadings(i + 1, 0, accum + [0])\n",
    "    else:\n",
    "        generate_all_shadings(i + 1, 0, accum + [0])\n",
    "        generate_all_shadings(i + 1, 1, accum + [1])\n",
    "\n",
    "\n",
    "generate_all_shadings(0, 0, [])\n",
    "print(len(n_by_one_shadings))\n",
    "\n",
    "n_by_one_shadings = [(shading, N - sum(shading)) for shading in n_by_one_shadings]\n",
    "print(n_by_one_shadings[100])"
   ]
  },
  {
   "cell_type": "code",
   "execution_count": 91,
   "metadata": {},
   "outputs": [],
   "source": [
    "import numpy as np\n",
    "\n",
    "\n",
    "def refine_regions(shading, regions):\n",
    "    new_regions = []\n",
    "    one_indices = [i for i, x in enumerate(shading) if x == 1]\n",
    "    for region in regions:\n",
    "        stack = []\n",
    "        for x in region:\n",
    "            if x in one_indices:\n",
    "                if stack:\n",
    "                    new_regions.append(stack)\n",
    "                stack = []\n",
    "            else:\n",
    "                stack.append(x)\n",
    "        if stack:\n",
    "            new_regions.append(stack)\n",
    "\n",
    "    return new_regions\n",
    "\n",
    "\n",
    "def get_possible_solutions(num_digits_to_possible_solutions, regions):\n",
    "    possible_solutions = []\n",
    "    for shading, num_gaps in n_by_one_shadings:\n",
    "        for possible_solution in num_digits_to_possible_solutions[num_gaps]:\n",
    "            digits = [int(x) for x in str(possible_solution)]\n",
    "            completed_row = [-1 for _ in range(N)]\n",
    "            digit_index = 0\n",
    "            for i in range(N):\n",
    "                if shading[i] == 0:\n",
    "                    completed_row[i] = digits[digit_index]\n",
    "                    digit_index += 1\n",
    "\n",
    "            is_valid = True\n",
    "            refined_regions = refine_regions(shading, regions)\n",
    "            for region in refined_regions:\n",
    "                if not all(\n",
    "                    completed_row[x] == completed_row[region[0]] for x in region\n",
    "                ):\n",
    "                    is_valid = False\n",
    "            for region1, region2 in zip(refined_regions, refined_regions[1:]):\n",
    "                if completed_row[region1[0]] == completed_row[region2[0]]:\n",
    "                    is_valid = False\n",
    "            if is_valid:\n",
    "                possible_solutions.append(np.array(completed_row).reshape(1, -1))\n",
    "    return np.stack(possible_solutions)"
   ]
  },
  {
   "cell_type": "code",
   "execution_count": 92,
   "metadata": {},
   "outputs": [
    {
     "name": "stdout",
     "output_type": "stream",
     "text": [
      "(2498, 1, 11)\n",
      "[[-1  5 -1  0 -1  1 -1  0 -1  1 -1]]\n",
      "(235, 1, 11)\n",
      "(7614, 1, 11)\n"
     ]
    }
   ],
   "source": [
    "num_digits_to_digit_sum_sevens = get_num_digits_to_possible_solutions(\n",
    "    get_numbers_with_digit_sum(7), N\n",
    ")\n",
    "digit_sum_sevens_regions = [[0], [1, 2], [3, 4], [5, 6], [7], [8, 9, 10]]\n",
    "digit_sum_sevens = get_possible_solutions(\n",
    "    num_digits_to_digit_sum_sevens, regions=digit_sum_sevens_regions\n",
    ")\n",
    "print(digit_sum_sevens.shape)\n",
    "print(digit_sum_sevens[-1])\n",
    "\n",
    "num_digits_to_fibonacci = get_num_digits_to_possible_solutions(get_fibonacci(), N)\n",
    "fibonacci_regions = [[0], [1], [2, 3], [4, 5], [6], [7], [8], [9], [10]]\n",
    "fibonnacci = get_possible_solutions(num_digits_to_fibonacci, regions=fibonacci_regions)\n",
    "print(fibonnacci.shape)\n",
    "\n",
    "num_digits_to_squares = get_num_digits_to_possible_solutions(get_squares(), N)\n",
    "square2_regions = [[0, 1, 2], [3, 4, 5], [6, 7], [8, 9, 10]]\n",
    "squares2 = get_possible_solutions(num_digits_to_squares, regions=square2_regions)\n",
    "print(squares2.shape)\n",
    "\n",
    "# num_digits_to_multiples_of_thirty_seven = get_num_digits_to_possible_solutions(get_multiples_of_thirty_seven(), N)\n",
    "# multiples_of_thirty_seven_regions = [[0], [1,2,3,4], [5,6], [7], [8,9,10]]\n",
    "# thirty_sevens = get_possible_solutions(num_digits_to_multiples_of_thirty_seven, regions=multiples_of_thirty_seven_regions)\n",
    "# print(thirty_sevens.shape)"
   ]
  },
  {
   "cell_type": "code",
   "execution_count": 99,
   "metadata": {},
   "outputs": [
    {
     "name": "stdout",
     "output_type": "stream",
     "text": [
      "[[ 1  0  0  1  1  0  0  2  1  1 -1]]\n"
     ]
    }
   ],
   "source": [
    "print(digit_sum_sevens[0])"
   ]
  },
  {
   "cell_type": "code",
   "execution_count": 94,
   "metadata": {},
   "outputs": [],
   "source": [
    "def merge(tops, bottoms, C):\n",
    "    top_last_row = tops[:, -1, :]\n",
    "    bottom_first_row = bottoms[:, 0, :]\n",
    "    top_last_row_expanded = top_last_row[:, np.newaxis, :]\n",
    "    bottom_first_row_expanded = bottom_first_row[np.newaxis, :, :]\n",
    "\n",
    "    # Compatibility check\n",
    "    equality = np.equal(top_last_row_expanded, bottom_first_row_expanded)\n",
    "    inequality = np.not_equal(top_last_row_expanded, bottom_first_row_expanded)\n",
    "\n",
    "    # Mask from C for checking conditions\n",
    "    equality_mask = (C == 1).T  # shape (1, G)\n",
    "    inequality_mask = (C == 0).T  # shape (1, G)\n",
    "\n",
    "    # Perform checks\n",
    "    compatibility = np.where(equality_mask, equality, inequality)\n",
    "\n",
    "    # Check for no adjacent -1s\n",
    "    no_adjacent_minus_ones = ~(\n",
    "        np.logical_and(top_last_row_expanded == -1, bottom_first_row_expanded == -1)\n",
    "    )\n",
    "\n",
    "    # Combine all conditions\n",
    "    total_compatibility = np.logical_and(compatibility, no_adjacent_minus_ones)\n",
    "\n",
    "    # Check across all G for final compatibility\n",
    "    compatible_solutions_indices = np.where(np.all(total_compatibility, axis=2))\n",
    "\n",
    "    # Gather valid solutions and concatenate\n",
    "    valid_top = tops[compatible_solutions_indices[0]]\n",
    "    valid_bottom = bottoms[compatible_solutions_indices[1]]\n",
    "\n",
    "    # Final tensor with shape (N3, M1+M2, G)\n",
    "    final_tensor = np.concatenate([valid_top, valid_bottom], axis=1)\n",
    "\n",
    "    return final_tensor\n",
    "\n",
    "\n",
    "merged_fibonacci_squares = merge(\n",
    "    fibonnacci, squares2, np.array([1, 0, 0, 0, 1, 1, 0, 1, 0, 0, 0])\n",
    ")\n",
    "\n",
    "merged_digit_sum_sevens_fibonacci = merge(\n",
    "    digit_sum_sevens,\n",
    "    fibonnacci,\n",
    "    np.array([1, 1, 0, 1, 0, 0, 1, 1, 1, 0, 1]),\n",
    ")\n",
    "\n",
    "merge_all_three = merge(\n",
    "    digit_sum_sevens,\n",
    "    merged_fibonacci_squares,\n",
    "    np.array([1, 1, 0, 1, 0, 0, 1, 1, 1, 0, 1]),\n",
    ")"
   ]
  },
  {
   "cell_type": "code",
   "execution_count": 98,
   "metadata": {},
   "outputs": [
    {
     "name": "stdout",
     "output_type": "stream",
     "text": [
      "[[[ 3  9  0 -1  8  8  1  6 -1  9 -1]\n",
      "  [ 3 -1  1  8  8  8 -1  6  0 -1  9]]\n",
      "\n",
      " [[ 3  9 -1  0  8  8  1  6 -1  9 -1]\n",
      "  [ 3 -1  1  8  8  8 -1  6  0 -1  9]]]\n"
     ]
    }
   ],
   "source": [
    "print(merged_fibonacci_squares)"
   ]
  },
  {
   "cell_type": "code",
   "execution_count": 96,
   "metadata": {},
   "outputs": [
    {
     "name": "stdout",
     "output_type": "stream",
     "text": [
      "[]\n"
     ]
    }
   ],
   "source": [
    "print(merged_digit_sum_sevens_fibonacci)"
   ]
  }
 ],
 "metadata": {
  "kernelspec": {
   "display_name": ".venv",
   "language": "python",
   "name": "python3"
  },
  "language_info": {
   "codemirror_mode": {
    "name": "ipython",
    "version": 3
   },
   "file_extension": ".py",
   "mimetype": "text/x-python",
   "name": "python",
   "nbconvert_exporter": "python",
   "pygments_lexer": "ipython3",
   "version": "3.10.13"
  }
 },
 "nbformat": 4,
 "nbformat_minor": 2
}
