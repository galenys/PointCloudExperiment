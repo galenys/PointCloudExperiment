{
 "cells": [
  {
   "cell_type": "code",
   "execution_count": 239,
   "metadata": {},
   "outputs": [],
   "source": [
    "import torch\n",
    "import torch.nn as nn\n",
    "import numpy as np"
   ]
  },
  {
   "cell_type": "code",
   "execution_count": 240,
   "metadata": {},
   "outputs": [],
   "source": [
    "# We want a network that takes in a 5x1 vector and outputs single scalar value\n",
    "# It should consist of only convolutional layers\n",
    "\n",
    "NUM_POINTS = 10000\n",
    "POINT_DIM = 5\n",
    "\n",
    "SEARCH_RADIUS = 10000"
   ]
  },
  {
   "cell_type": "code",
   "execution_count": 241,
   "metadata": {},
   "outputs": [
    {
     "name": "stdout",
     "output_type": "stream",
     "text": [
      "Net(\n",
      "  (conv1): Conv1d(1, 3, kernel_size=(2,), stride=(1,))\n",
      "  (conv2): Conv1d(3, 3, kernel_size=(2,), stride=(1,))\n",
      "  (conv3): Conv1d(3, 3, kernel_size=(2,), stride=(1,))\n",
      "  (conv4): Conv1d(3, 1, kernel_size=(2,), stride=(1,))\n",
      ")\n",
      "tensor([[-0.7247,  0.0566,  0.1982, -0.1209,  0.3277],\n",
      "        [-0.6003, -1.0274, -0.4787, -1.4924,  0.4707],\n",
      "        [-0.8435, -1.3829, -1.1964, -0.2006,  0.8435],\n",
      "        [-0.3924, -0.7674,  1.5255,  2.3943, -0.1622]])\n",
      "tensor([0., 0., 0., 0.], grad_fn=<ViewBackward0>)\n"
     ]
    }
   ],
   "source": [
    "class Net(nn.Module):\n",
    "    def __init__(self, hidden_size=10):\n",
    "        super(Net, self).__init__()\n",
    "        self.conv1 = nn.Conv1d(1, 3, 2, 1, 0)\n",
    "        self.conv2 = nn.Conv1d(3, 3, 2, 1, 0)\n",
    "        self.conv3 = nn.Conv1d(3, 3, 2, 1, 0)\n",
    "        self.conv4 = nn.Conv1d(3, 1, 2, 1, 0)\n",
    "        self.initialise_weights()\n",
    "\n",
    "    def initialise_weights(self):\n",
    "        # We want the weights to be quite small\n",
    "        self.conv1.weight.data.normal_(0, 0.1)\n",
    "        self.conv2.weight.data.normal_(0, 0.1)\n",
    "        self.conv3.weight.data.normal_(0, 0.1)\n",
    "        self.conv4.weight.data.normal_(0, 0.1)\n",
    "\n",
    "    def forward(self, x):\n",
    "        x = x.view(-1, 1, POINT_DIM)\n",
    "        x = self.conv1(x)\n",
    "        x = nn.functional.relu(x)\n",
    "        x = self.conv2(x)\n",
    "        x = nn.functional.relu(x)\n",
    "        x = self.conv3(x)\n",
    "        x = nn.functional.relu(x)\n",
    "        x = self.conv4(x)\n",
    "        x = nn.functional.relu(x)\n",
    "        return x.view(-1)\n",
    "\n",
    "\n",
    "model = Net()\n",
    "print(model)\n",
    "\n",
    "example_input = torch.randn(4, POINT_DIM)\n",
    "print(example_input)\n",
    "\n",
    "output = model(example_input)\n",
    "print(output)"
   ]
  },
  {
   "cell_type": "code",
   "execution_count": 242,
   "metadata": {},
   "outputs": [
    {
     "name": "stdout",
     "output_type": "stream",
     "text": [
      "tensor(7812.1396)\n",
      "tensor([-838.1958, -115.7162,  -22.4317,   -5.0522,   86.8268])\n"
     ]
    }
   ],
   "source": [
    "def sample_spherical(npoints, ndim):\n",
    "    vec = np.random.randn(ndim, npoints)\n",
    "    vec /= np.linalg.norm(vec, axis=0)\n",
    "    return torch.Tensor(vec.T)\n",
    "\n",
    "\n",
    "def sample_from_ball(npoints, ndim, radius):\n",
    "    vec = np.random.randn(ndim, npoints)\n",
    "    vec /= np.linalg.norm(vec, axis=0)\n",
    "    radii = np.random.uniform(0, radius, npoints)\n",
    "    vec *= radii\n",
    "    return torch.Tensor(vec.T)\n",
    "\n",
    "\n",
    "points = sample_from_ball(npoints=NUM_POINTS, ndim=POINT_DIM, radius=SEARCH_RADIUS)\n",
    "print(torch.linalg.norm(points[59]))\n",
    "\n",
    "# We want to sort the coordinates of each point so that they are always increasing\n",
    "sorted_points = torch.sort(points, dim=1).values\n",
    "print(sorted_points[5])"
   ]
  },
  {
   "cell_type": "code",
   "execution_count": 243,
   "metadata": {},
   "outputs": [],
   "source": [
    "# example = points[:3]\n",
    "# example.requires_grad = True\n",
    "# print(example)\n",
    "\n",
    "# output = model(example)\n",
    "# print(output)\n",
    "# output.backward(torch.ones_like(output))\n",
    "\n",
    "# jacobians = example.grad\n",
    "# print(jacobians)"
   ]
  },
  {
   "cell_type": "code",
   "execution_count": 244,
   "metadata": {},
   "outputs": [
    {
     "name": "stdout",
     "output_type": "stream",
     "text": [
      "torch.Size([10000, 5])\n",
      "torch.Size([1349, 5])\n"
     ]
    }
   ],
   "source": [
    "def get_jacobians(points, model):\n",
    "    \"\"\"\n",
    "    Compute the Jacobian of the model outputs with respect to its inputs for each input point.\n",
    "    \n",
    "    :param points: A tensor of shape (N, M) containing N points of dimension M.\n",
    "    :param model: A PyTorch model that accepts inputs of shape (N, M) and outputs a tensor of shape (N, 1).\n",
    "    :returns: A tensor of Jacobians of shape (N, M), where each row corresponds to the Jacobian of the model output with respect to the input point.\n",
    "    \"\"\"\n",
    "    points.requires_grad = True\n",
    "    output = model(points)\n",
    "    output.backward(torch.ones_like(output))\n",
    "    jacobians = points.grad\n",
    "    return jacobians\n",
    "\n",
    "\n",
    "def round_tensor(tensor, decimal_places):\n",
    "    return torch.round(tensor * 10**decimal_places) / 10**decimal_places\n",
    "\n",
    "\n",
    "def remove_duplicate_tensors(tensor):\n",
    "    return torch.unique(tensor, dim=0)\n",
    "\n",
    "\n",
    "jacobians = get_jacobians(points, model)\n",
    "print(jacobians.shape)\n",
    "\n",
    "unique_jacobians = remove_duplicate_tensors(round_tensor(jacobians, 10))\n",
    "print(unique_jacobians.shape)"
   ]
  },
  {
   "cell_type": "code",
   "execution_count": 245,
   "metadata": {},
   "outputs": [
    {
     "name": "stdout",
     "output_type": "stream",
     "text": [
      "tensor([ 3.7209e-05,  5.1341e-05, -7.7134e-04, -3.7868e-04,  5.3303e-05])\n"
     ]
    }
   ],
   "source": [
    "print(jacobians[4])"
   ]
  }
 ],
 "metadata": {
  "kernelspec": {
   "display_name": ".venv",
   "language": "python",
   "name": "python3"
  },
  "language_info": {
   "codemirror_mode": {
    "name": "ipython",
    "version": 3
   },
   "file_extension": ".py",
   "mimetype": "text/x-python",
   "name": "python",
   "nbconvert_exporter": "python",
   "pygments_lexer": "ipython3",
   "version": "3.10.13"
  }
 },
 "nbformat": 4,
 "nbformat_minor": 2
}
