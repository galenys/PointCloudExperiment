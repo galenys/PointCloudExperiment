{
 "cells": [
  {
   "cell_type": "code",
   "execution_count": 72,
   "metadata": {},
   "outputs": [],
   "source": [
    "import torch\n",
    "from torch.utils.data import DataLoader, Dataset"
   ]
  },
  {
   "cell_type": "code",
   "execution_count": 73,
   "metadata": {},
   "outputs": [],
   "source": [
    "NUM_SAMPLES = 1000\n",
    "\n",
    "POINT_DIM = 3\n",
    "NUM_POINTS = 5\n",
    "\n",
    "INPUT_DIM = POINT_DIM * NUM_POINTS\n",
    "OUTPUT_DIM = 5\n",
    "\n",
    "BATCH_SIZE = 32\n",
    "NUM_EPOCHS = 10000\n",
    "LEARNING_RATE = 0.02"
   ]
  },
  {
   "cell_type": "code",
   "execution_count": 74,
   "metadata": {},
   "outputs": [
    {
     "name": "stdout",
     "output_type": "stream",
     "text": [
      "torch.Size([1000, 5, 3])\n",
      "torch.Size([1000, 5])\n"
     ]
    }
   ],
   "source": [
    "points = torch.rand(NUM_SAMPLES, NUM_POINTS, POINT_DIM)\n",
    "print(points.shape)\n",
    "\n",
    "labels = torch.randint(0, 2, (NUM_SAMPLES, OUTPUT_DIM))\n",
    "print(labels.shape)"
   ]
  },
  {
   "cell_type": "code",
   "execution_count": 75,
   "metadata": {},
   "outputs": [],
   "source": [
    "class PermutedPointsDataset(Dataset):\n",
    "    def __init__(self, points, labels):\n",
    "        \"\"\"\n",
    "        Args:\n",
    "            points (Tensor): The points tensor of shape (NUM_SAMPLES, NUM_POINTS, POINT_DIM).\n",
    "            labels (Tensor): The labels tensor of shape (NUM_SAMPLES, OUTPUT_DIM).\n",
    "        \"\"\"\n",
    "        self.points = points\n",
    "        self.labels = labels\n",
    "\n",
    "    def __len__(self):\n",
    "        return len(self.points)\n",
    "\n",
    "    def __getitem__(self, idx):\n",
    "        current_points = self.points[idx]\n",
    "        # Generate a permutation\n",
    "        perm = torch.randperm(current_points.size(0))\n",
    "        # Apply the permutation to points\n",
    "        permuted_points = current_points[perm]\n",
    "        return permuted_points.view(-1), self.labels[idx]\n",
    "\n",
    "# Instantiate the custom dataset\n",
    "dataset = PermutedPointsDataset(points, labels)\n",
    "\n",
    "# Create a DataLoader\n",
    "dataloader = DataLoader(dataset, batch_size=BATCH_SIZE, shuffle=True)"
   ]
  },
  {
   "cell_type": "code",
   "execution_count": 76,
   "metadata": {},
   "outputs": [],
   "source": [
    "class SimpleLinearNetwork(torch.nn.Module):\n",
    "    def __init__(self, layer_widths):\n",
    "        super(SimpleLinearNetwork, self).__init__()\n",
    "        self.layers = torch.nn.ModuleList()\n",
    "        for a,b in zip(layer_widths, layer_widths[1:]):\n",
    "            self.layers.append(torch.nn.Linear(a,b))\n",
    "    \n",
    "    def forward(self, x):\n",
    "        for layer in self.layers[:-1]:\n",
    "            x = torch.relu(layer(x))\n",
    "        return self.layers[-1](x)"
   ]
  },
  {
   "cell_type": "code",
   "execution_count": 77,
   "metadata": {},
   "outputs": [
    {
     "name": "stdout",
     "output_type": "stream",
     "text": [
      "Epoch 0, Loss: 22.29525649547577\n",
      "Epoch 100, Loss: 22.180070638656616\n",
      "Epoch 200, Loss: 22.177550673484802\n",
      "Epoch 300, Loss: 22.17050838470459\n",
      "Epoch 400, Loss: 22.161996364593506\n",
      "Epoch 500, Loss: 22.17396253347397\n",
      "Epoch 600, Loss: 22.16419118642807\n",
      "Epoch 700, Loss: 22.180211007595062\n",
      "Epoch 800, Loss: 22.159494817256927\n",
      "Epoch 900, Loss: 22.171850621700287\n",
      "Epoch 1000, Loss: 22.169557094573975\n",
      "Epoch 1100, Loss: 22.168573439121246\n",
      "Epoch 1200, Loss: 22.187703251838684\n",
      "Epoch 1300, Loss: 22.169793784618378\n",
      "Epoch 1400, Loss: 22.171943366527557\n",
      "Epoch 1500, Loss: 22.169249713420868\n",
      "Epoch 1600, Loss: 22.185550212860107\n",
      "Epoch 1700, Loss: 22.186049163341522\n",
      "Epoch 1800, Loss: 22.167471945285797\n",
      "Epoch 1900, Loss: 22.173479437828064\n",
      "Epoch 2000, Loss: 22.17038232088089\n",
      "Epoch 2100, Loss: 22.18236756324768\n",
      "Epoch 2200, Loss: 22.17024201154709\n",
      "Epoch 2300, Loss: 22.182519674301147\n"
     ]
    }
   ],
   "source": [
    "model = SimpleLinearNetwork([INPUT_DIM, 100, 100, OUTPUT_DIM])\n",
    "\n",
    "criterion = torch.nn.BCEWithLogitsLoss()\n",
    "optimizer = torch.optim.Adam(model.parameters(), lr=LEARNING_RATE)\n",
    "\n",
    "for epoch in range(NUM_EPOCHS):\n",
    "    total_loss = 0\n",
    "    for i, (x, y) in enumerate(dataloader):\n",
    "        optimizer.zero_grad()\n",
    "        y_pred = model(x)\n",
    "        loss = criterion(y_pred, y.float())\n",
    "        loss.backward()\n",
    "        optimizer.step()\n",
    "        total_loss += loss.item()\n",
    "    if epoch % 100 == 0:\n",
    "        print(f\"Epoch {epoch}, Loss: {total_loss}\")"
   ]
  }
 ],
 "metadata": {
  "kernelspec": {
   "display_name": ".venv",
   "language": "python",
   "name": "python3"
  },
  "language_info": {
   "codemirror_mode": {
    "name": "ipython",
    "version": 3
   },
   "file_extension": ".py",
   "mimetype": "text/x-python",
   "name": "python",
   "nbconvert_exporter": "python",
   "pygments_lexer": "ipython3",
   "version": "3.10.13"
  }
 },
 "nbformat": 4,
 "nbformat_minor": 2
}
